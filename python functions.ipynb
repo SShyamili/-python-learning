{
 "cells": [
  {
   "cell_type": "code",
   "execution_count": 2,
   "id": "70aae3f6-3988-4978-911c-43dce7ae0d22",
   "metadata": {},
   "outputs": [],
   "source": [
    "def tech():\n",
    "    print(\"Computer Science\")"
   ]
  },
  {
   "cell_type": "code",
   "execution_count": 4,
   "id": "22cddf07-90c2-4b53-bb94-142e28332289",
   "metadata": {},
   "outputs": [
    {
     "name": "stdout",
     "output_type": "stream",
     "text": [
      "Computer Science\n"
     ]
    }
   ],
   "source": [
    "tech()"
   ]
  },
  {
   "cell_type": "code",
   "execution_count": 6,
   "id": "aa57613a-d039-4383-95db-ce989eab5e8f",
   "metadata": {},
   "outputs": [
    {
     "name": "stdout",
     "output_type": "stream",
     "text": [
      "Computer Science\n",
      "Mechanical\n"
     ]
    }
   ],
   "source": [
    "def tech():\n",
    "    print(\"Computer Science\")\n",
    "    print(\"Mechanical\")\n",
    "tech()"
   ]
  },
  {
   "cell_type": "code",
   "execution_count": 8,
   "id": "9b834301-14c7-4d56-be38-920e77da1441",
   "metadata": {},
   "outputs": [
    {
     "name": "stdout",
     "output_type": "stream",
     "text": [
      "Computer Science\n",
      "Mechanical\n",
      "Computer Science\n",
      "Mechanical\n",
      "Computer Science\n",
      "Mechanical\n"
     ]
    }
   ],
   "source": [
    "def tech():\n",
    "    print(\"Computer Science\")\n",
    "    print(\"Mechanical\")\n",
    "tech()\n",
    "def tech():\n",
    "    print(\"Computer Science\")\n",
    "    print(\"Mechanical\")\n",
    "tech()\n",
    "def tech():\n",
    "    print(\"Computer Science\")\n",
    "    print(\"Mechanical\")\n",
    "tech()"
   ]
  },
  {
   "cell_type": "code",
   "execution_count": 10,
   "id": "778d4f35-01c1-4ad8-b058-bca715ce9658",
   "metadata": {},
   "outputs": [
    {
     "name": "stdout",
     "output_type": "stream",
     "text": [
      "Computer Science\n",
      "Mechanical\n",
      "Computer Science\n",
      "Mechanical\n",
      "Computer Science\n",
      "Mechanical\n"
     ]
    }
   ],
   "source": [
    "def tech():\n",
    "    print(\"Computer Science\")\n",
    "    print(\"Mechanical\")\n",
    "tech()\n",
    "tech()\n",
    "tech()"
   ]
  },
  {
   "cell_type": "code",
   "execution_count": 12,
   "id": "427e65dd-2baa-4470-9627-8cb7f52306b6",
   "metadata": {},
   "outputs": [
    {
     "name": "stdout",
     "output_type": "stream",
     "text": [
      "Computer Science\n",
      "Mechanical\n",
      "107\n",
      "108\n"
     ]
    }
   ],
   "source": [
    "def tech():\n",
    "    print(\"Computer Science\")\n",
    "    print(\"Mechanical\")\n",
    "tech()\n",
    "def classroom():\n",
    "    print(\"107\")\n",
    "    print(\"108\")\n",
    "classroom()"
   ]
  },
  {
   "cell_type": "code",
   "execution_count": 14,
   "id": "a407f660-f948-4f3e-9f3a-3de1a856f309",
   "metadata": {},
   "outputs": [
    {
     "name": "stdout",
     "output_type": "stream",
     "text": [
      "Computer Science\n",
      "Mechanical\n",
      "107\n",
      "108\n"
     ]
    }
   ],
   "source": [
    "def tech():\n",
    "    print(\"Computer Science\")\n",
    "    print(\"Mechanical\")\n",
    "\n",
    "def classroom():\n",
    "    print(\"107\")\n",
    "    print(\"108\")\n",
    "\n",
    "tech()\n",
    "classroom()"
   ]
  },
  {
   "cell_type": "code",
   "execution_count": 16,
   "id": "c866492a-4f10-4f7c-8e07-b79b962c71c1",
   "metadata": {},
   "outputs": [
    {
     "data": {
      "text/plain": [
       "35"
      ]
     },
     "execution_count": 16,
     "metadata": {},
     "output_type": "execute_result"
    }
   ],
   "source": [
    "def add(x,y,z):\n",
    "    c=x+y+z\n",
    "    return c\n",
    "\n",
    "add(10,12,13)"
   ]
  },
  {
   "cell_type": "code",
   "execution_count": 18,
   "id": "71ede15c-be98-44d5-bc67-0782d4756bbb",
   "metadata": {},
   "outputs": [
    {
     "ename": "TypeError",
     "evalue": "add() missing 1 required positional argument: 'z'",
     "output_type": "error",
     "traceback": [
      "\u001b[1;31m---------------------------------------------------------------------------\u001b[0m",
      "\u001b[1;31mTypeError\u001b[0m                                 Traceback (most recent call last)",
      "Cell \u001b[1;32mIn[18], line 5\u001b[0m\n\u001b[0;32m      2\u001b[0m     c\u001b[38;5;241m=\u001b[39mx\u001b[38;5;241m+\u001b[39my\u001b[38;5;241m+\u001b[39mz\n\u001b[0;32m      3\u001b[0m     \u001b[38;5;28;01mreturn\u001b[39;00m c\n\u001b[1;32m----> 5\u001b[0m \u001b[43madd\u001b[49m\u001b[43m(\u001b[49m\u001b[38;5;241;43m10\u001b[39;49m\u001b[43m,\u001b[49m\u001b[38;5;241;43m12\u001b[39;49m\u001b[43m)\u001b[49m\n",
      "\u001b[1;31mTypeError\u001b[0m: add() missing 1 required positional argument: 'z'"
     ]
    }
   ],
   "source": [
    "def add(x,y,z):\n",
    "    c=x+y+z\n",
    "    return c\n",
    "\n",
    "add(10,12)"
   ]
  },
  {
   "cell_type": "code",
   "execution_count": 24,
   "id": "372a6464-f22c-4d3c-9e09-bf7dedb1dee1",
   "metadata": {},
   "outputs": [
    {
     "name": "stdout",
     "output_type": "stream",
     "text": [
      "39\n"
     ]
    }
   ],
   "source": [
    "def add(x,y,z):\n",
    "    c=x+y+z\n",
    "    return c\n",
    "result=add(12,13,14)\n",
    "print(result)"
   ]
  },
  {
   "cell_type": "code",
   "execution_count": 26,
   "id": "fa0c9ba0-d5ca-42f4-93c3-989a16cf4202",
   "metadata": {},
   "outputs": [
    {
     "name": "stdout",
     "output_type": "stream",
     "text": [
      "hello\n",
      "good noon\n",
      "9\n"
     ]
    }
   ],
   "source": [
    "def greet():\n",
    "    print('hello')\n",
    "    print('good noon')\n",
    "greet()\n",
    "\n",
    "def add(x,y):\n",
    "    c=x+y\n",
    "    return c\n",
    "\n",
    "result = add(5,4)\n",
    "print(result) "
   ]
  },
  {
   "cell_type": "code",
   "execution_count": 34,
   "id": "fd864368-55e2-42b0-acaa-fa7215734680",
   "metadata": {},
   "outputs": [
    {
     "name": "stdout",
     "output_type": "stream",
     "text": [
      "(11, 1)\n"
     ]
    }
   ],
   "source": [
    "def add_sub(a,b):\n",
    "    c=a+b\n",
    "    d=a-b\n",
    "    return c,d\n",
    "\n",
    "result=add_sub(6,5)\n",
    "print(result)"
   ]
  },
  {
   "cell_type": "code",
   "execution_count": 42,
   "id": "2ffaad3a-56d5-4a4d-8716-9b578debafb6",
   "metadata": {},
   "outputs": [
    {
     "name": "stdout",
     "output_type": "stream",
     "text": [
      "(11, 1)\n"
     ]
    },
    {
     "data": {
      "text/plain": [
       "(27, -3)"
      ]
     },
     "execution_count": 42,
     "metadata": {},
     "output_type": "execute_result"
    }
   ],
   "source": [
    "def add_sub(a,b):\n",
    "    c=a+b\n",
    "    d=a-b\n",
    "    return c,d\n",
    "    result=add_sub(6,5)\n",
    "print(result)\n",
    "add_sub(12,15)"
   ]
  },
  {
   "cell_type": "code",
   "execution_count": 46,
   "id": "47e463a8-8216-4e15-8e53-0c18896c76b8",
   "metadata": {},
   "outputs": [
    {
     "name": "stdout",
     "output_type": "stream",
     "text": [
      "(11, 1)\n",
      "<class 'tuple'>\n"
     ]
    },
    {
     "data": {
      "text/plain": [
       "(51, -21)"
      ]
     },
     "execution_count": 46,
     "metadata": {},
     "output_type": "execute_result"
    }
   ],
   "source": [
    "def add_sub(a,b):\n",
    "    c=a+b\n",
    "    d=a-b\n",
    "    return c,d\n",
    "\n",
    "result=add_sub(6,5)\n",
    "print(result)\n",
    "print(type(result))\n",
    "add_sub(15,36)"
   ]
  },
  {
   "cell_type": "code",
   "execution_count": 48,
   "id": "3f84689a-0c72-4f27-9c99-4e1dab87abff",
   "metadata": {},
   "outputs": [
    {
     "name": "stdout",
     "output_type": "stream",
     "text": [
      "9 1\n",
      "<class 'int'>\n",
      "<class 'int'>\n"
     ]
    }
   ],
   "source": [
    "def add_sub(x,y):\n",
    "    c= x+y\n",
    "    d= x-y\n",
    "    return c, d\n",
    "\n",
    "result1,result2 = add_sub(5,4)\n",
    "\n",
    "print(result1,result2)\n",
    "\n",
    "print(type(result1))\n",
    "print(type(result2))"
   ]
  },
  {
   "cell_type": "code",
   "execution_count": 50,
   "id": "778ea772-bf8e-4f33-960b-3e604b0c1dfc",
   "metadata": {},
   "outputs": [
    {
     "data": {
      "text/plain": [
       "35"
      ]
     },
     "execution_count": 50,
     "metadata": {},
     "output_type": "execute_result"
    }
   ],
   "source": [
    "def add(x,y,z): #formal arg\n",
    "    c=x+y+z\n",
    "    return c\n",
    "\n",
    "add(10,12,13) #actual arg"
   ]
  },
  {
   "cell_type": "code",
   "execution_count": 52,
   "id": "59ead7f4-69b8-4085-bdb7-6ad15bd0eecc",
   "metadata": {},
   "outputs": [
    {
     "data": {
      "text/plain": [
       "35"
      ]
     },
     "execution_count": 52,
     "metadata": {},
     "output_type": "execute_result"
    }
   ],
   "source": [
    "def add(x,y,z):\n",
    "    c=x+y+z\n",
    "    return c\n",
    "\n",
    "add(10,12,13) #positional arg"
   ]
  },
  {
   "cell_type": "code",
   "execution_count": 58,
   "id": "e4136ba0-a0b3-4bf3-a832-8e0ec22e18bf",
   "metadata": {},
   "outputs": [
    {
     "data": {
      "text/plain": [
       "35"
      ]
     },
     "execution_count": 58,
     "metadata": {},
     "output_type": "execute_result"
    }
   ],
   "source": [
    "def add(a,b,c):\n",
    "    z=a+b+c\n",
    "    return z\n",
    "\n",
    "add(a=10,b=12,c=13) #keyword arg"
   ]
  },
  {
   "cell_type": "code",
   "execution_count": 64,
   "id": "c7ae8852-243b-4d2e-87a8-9f442d5b25fa",
   "metadata": {},
   "outputs": [
    {
     "name": "stdout",
     "output_type": "stream",
     "text": [
      "shyamili\n",
      "20\n"
     ]
    }
   ],
   "source": [
    "def person(name='harika',age= 21):\n",
    "    print(name)\n",
    "    print(age)\n",
    "    \n",
    "person('shyamili', 20) #default argument"
   ]
  },
  {
   "cell_type": "code",
   "execution_count": null,
   "id": "7de3bff9-2495-48d5-bedd-14c372acfbe4",
   "metadata": {},
   "outputs": [],
   "source": []
  }
 ],
 "metadata": {
  "kernelspec": {
   "display_name": "Python 3 (ipykernel)",
   "language": "python",
   "name": "python3"
  },
  "language_info": {
   "codemirror_mode": {
    "name": "ipython",
    "version": 3
   },
   "file_extension": ".py",
   "mimetype": "text/x-python",
   "name": "python",
   "nbconvert_exporter": "python",
   "pygments_lexer": "ipython3",
   "version": "3.12.7"
  }
 },
 "nbformat": 4,
 "nbformat_minor": 5
}
