{
 "cells": [
  {
   "cell_type": "code",
   "execution_count": 1,
   "metadata": {
    "colab": {
     "base_uri": "https://localhost:8080/"
    },
    "executionInfo": {
     "elapsed": 493,
     "status": "ok",
     "timestamp": 1738244822536,
     "user": {
      "displayName": "S Shyamili",
      "userId": "17147265612730583214"
     },
     "user_tz": -330
    },
    "id": "3pEl56Kva0gz",
    "outputId": "d1d5c391-5211-45ab-c4d8-bae0dad65e55"
   },
   "outputs": [
    {
     "data": {
      "text/plain": [
       "5"
      ]
     },
     "execution_count": 1,
     "metadata": {},
     "output_type": "execute_result"
    }
   ],
   "source": [
    "int.__add__(3,2)"
   ]
  },
  {
   "cell_type": "code",
   "execution_count": 2,
   "metadata": {
    "colab": {
     "base_uri": "https://localhost:8080/"
    },
    "executionInfo": {
     "elapsed": 708,
     "status": "ok",
     "timestamp": 1738244830814,
     "user": {
      "displayName": "S Shyamili",
      "userId": "17147265612730583214"
     },
     "user_tz": -330
    },
    "id": "PW5F8bgQduNI",
    "outputId": "83985648-0df4-46d5-dbdd-e5364c79bc03"
   },
   "outputs": [
    {
     "data": {
      "text/plain": [
       "1"
      ]
     },
     "execution_count": 2,
     "metadata": {},
     "output_type": "execute_result"
    }
   ],
   "source": [
    "int.__sub__(3,2)"
   ]
  },
  {
   "cell_type": "code",
   "execution_count": 5,
   "metadata": {
    "colab": {
     "base_uri": "https://localhost:8080/",
     "height": 146
    },
    "executionInfo": {
     "elapsed": 6,
     "status": "error",
     "timestamp": 1738244879628,
     "user": {
      "displayName": "S Shyamili",
      "userId": "17147265612730583214"
     },
     "user_tz": -330
    },
    "id": "I7VNx4L-duY3",
    "outputId": "2efe9e61-ae71-4d04-e079-3d72a0cc6af3"
   },
   "outputs": [
    {
     "ename": "AttributeError",
     "evalue": "type object 'int' has no attribute '__div__'",
     "output_type": "error",
     "traceback": [
      "\u001b[0;31m---------------------------------------------------------------------------\u001b[0m",
      "\u001b[0;31mAttributeError\u001b[0m                            Traceback (most recent call last)",
      "\u001b[0;32m<ipython-input-5-012de652a2bf>\u001b[0m in \u001b[0;36m<cell line: 0>\u001b[0;34m()\u001b[0m\n\u001b[0;32m----> 1\u001b[0;31m \u001b[0mint\u001b[0m\u001b[0;34m.\u001b[0m\u001b[0m__div__\u001b[0m\u001b[0;34m(\u001b[0m\u001b[0;36m6\u001b[0m\u001b[0;34m,\u001b[0m\u001b[0;36m2\u001b[0m\u001b[0;34m)\u001b[0m\u001b[0;34m\u001b[0m\u001b[0;34m\u001b[0m\u001b[0m\n\u001b[0m",
      "\u001b[0;31mAttributeError\u001b[0m: type object 'int' has no attribute '__div__'"
     ]
    }
   ],
   "source": [
    "int.__div__(6,2)"
   ]
  },
  {
   "cell_type": "markdown",
   "metadata": {},
   "source": []
  },
  {
   "cell_type": "markdown",
   "metadata": {
    "id": "QB0zRBtMe6QW"
   },
   "source": [
    "**Tuple**"
   ]
  },
  {
   "cell_type": "code",
   "execution_count": 7,
   "metadata": {
    "executionInfo": {
     "elapsed": 426,
     "status": "ok",
     "timestamp": 1738245200373,
     "user": {
      "displayName": "S Shyamili",
      "userId": "17147265612730583214"
     },
     "user_tz": -330
    },
    "id": "XT1dj5Z-dujx"
   },
   "outputs": [],
   "source": [
    "t=()"
   ]
  },
  {
   "cell_type": "code",
   "execution_count": 8,
   "metadata": {
    "colab": {
     "base_uri": "https://localhost:8080/"
    },
    "executionInfo": {
     "elapsed": 593,
     "status": "ok",
     "timestamp": 1738245203197,
     "user": {
      "displayName": "S Shyamili",
      "userId": "17147265612730583214"
     },
     "user_tz": -330
    },
    "id": "fTB0rTgqfG01",
    "outputId": "1beaa216-049b-4f3c-f5e3-7ac005619a56"
   },
   "outputs": [
    {
     "data": {
      "text/plain": [
       "tuple"
      ]
     },
     "execution_count": 8,
     "metadata": {},
     "output_type": "execute_result"
    }
   ],
   "source": [
    "type(t)"
   ]
  },
  {
   "cell_type": "code",
   "execution_count": 9,
   "metadata": {
    "colab": {
     "base_uri": "https://localhost:8080/"
    },
    "executionInfo": {
     "elapsed": 654,
     "status": "ok",
     "timestamp": 1738245221763,
     "user": {
      "displayName": "S Shyamili",
      "userId": "17147265612730583214"
     },
     "user_tz": -330
    },
    "id": "a-48bTcOfGxN",
    "outputId": "6f83e46e-4815-4a6c-b1dc-015d4d55d249"
   },
   "outputs": [
    {
     "data": {
      "text/plain": [
       "tuple"
      ]
     },
     "execution_count": 9,
     "metadata": {},
     "output_type": "execute_result"
    }
   ],
   "source": [
    "t=1,2,3,4,5\n",
    "type(t)"
   ]
  },
  {
   "cell_type": "code",
   "execution_count": 11,
   "metadata": {
    "colab": {
     "base_uri": "https://localhost:8080/"
    },
    "executionInfo": {
     "elapsed": 487,
     "status": "ok",
     "timestamp": 1738245250332,
     "user": {
      "displayName": "S Shyamili",
      "userId": "17147265612730583214"
     },
     "user_tz": -330
    },
    "id": "1t6265mtfGuX",
    "outputId": "f5eebbbb-076c-48eb-8e21-8bb352e8d50c"
   },
   "outputs": [
    {
     "data": {
      "text/plain": [
       "tuple"
      ]
     },
     "execution_count": 11,
     "metadata": {},
     "output_type": "execute_result"
    }
   ],
   "source": [
    "t1=(10,20,30,40,50)\n",
    "type(t)"
   ]
  },
  {
   "cell_type": "code",
   "execution_count": 12,
   "metadata": {
    "colab": {
     "base_uri": "https://localhost:8080/",
     "height": 146
    },
    "executionInfo": {
     "elapsed": 430,
     "status": "error",
     "timestamp": 1738245266883,
     "user": {
      "displayName": "S Shyamili",
      "userId": "17147265612730583214"
     },
     "user_tz": -330
    },
    "id": "YPWiltCtfGr3",
    "outputId": "bd3715aa-5d8a-483e-dfca-7464c0a8f024"
   },
   "outputs": [
    {
     "ename": "TypeError",
     "evalue": "tuple.count() takes exactly one argument (0 given)",
     "output_type": "error",
     "traceback": [
      "\u001b[0;31m---------------------------------------------------------------------------\u001b[0m",
      "\u001b[0;31mTypeError\u001b[0m                                 Traceback (most recent call last)",
      "\u001b[0;32m<ipython-input-12-9ccfa7eed41a>\u001b[0m in \u001b[0;36m<cell line: 0>\u001b[0;34m()\u001b[0m\n\u001b[0;32m----> 1\u001b[0;31m \u001b[0mt\u001b[0m\u001b[0;34m.\u001b[0m\u001b[0mcount\u001b[0m\u001b[0;34m(\u001b[0m\u001b[0;34m)\u001b[0m\u001b[0;34m\u001b[0m\u001b[0;34m\u001b[0m\u001b[0m\n\u001b[0m",
      "\u001b[0;31mTypeError\u001b[0m: tuple.count() takes exactly one argument (0 given)"
     ]
    }
   ],
   "source": [
    "t.count()"
   ]
  },
  {
   "cell_type": "code",
   "execution_count": 13,
   "metadata": {
    "colab": {
     "base_uri": "https://localhost:8080/"
    },
    "executionInfo": {
     "elapsed": 418,
     "status": "ok",
     "timestamp": 1738245291388,
     "user": {
      "displayName": "S Shyamili",
      "userId": "17147265612730583214"
     },
     "user_tz": -330
    },
    "id": "p-ssvzI-feyb",
    "outputId": "8b587b7c-c35d-4592-a614-c237f4ccaebf"
   },
   "outputs": [
    {
     "data": {
      "text/plain": [
       "0"
      ]
     },
     "execution_count": 13,
     "metadata": {},
     "output_type": "execute_result"
    }
   ],
   "source": [
    "t1.count(5)"
   ]
  },
  {
   "cell_type": "code",
   "execution_count": 14,
   "metadata": {
    "colab": {
     "base_uri": "https://localhost:8080/"
    },
    "executionInfo": {
     "elapsed": 416,
     "status": "ok",
     "timestamp": 1738245317090,
     "user": {
      "displayName": "S Shyamili",
      "userId": "17147265612730583214"
     },
     "user_tz": -330
    },
    "id": "7H8JaMf8feu5",
    "outputId": "8d564175-a571-4f8b-af55-3932df7c2277"
   },
   "outputs": [
    {
     "data": {
      "text/plain": [
       "1"
      ]
     },
     "execution_count": 14,
     "metadata": {},
     "output_type": "execute_result"
    }
   ],
   "source": [
    "t1.count(20)"
   ]
  },
  {
   "cell_type": "code",
   "execution_count": 15,
   "metadata": {
    "colab": {
     "base_uri": "https://localhost:8080/"
    },
    "executionInfo": {
     "elapsed": 432,
     "status": "ok",
     "timestamp": 1738245329664,
     "user": {
      "displayName": "S Shyamili",
      "userId": "17147265612730583214"
     },
     "user_tz": -330
    },
    "id": "Bg0gkTokfesh",
    "outputId": "721ce623-5b87-4f4f-8ace-7cd408e70513"
   },
   "outputs": [
    {
     "data": {
      "text/plain": [
       "3"
      ]
     },
     "execution_count": 15,
     "metadata": {},
     "output_type": "execute_result"
    }
   ],
   "source": [
    "t.index(4)"
   ]
  },
  {
   "cell_type": "code",
   "execution_count": 16,
   "metadata": {
    "colab": {
     "base_uri": "https://localhost:8080/"
    },
    "executionInfo": {
     "elapsed": 421,
     "status": "ok",
     "timestamp": 1738245361524,
     "user": {
      "displayName": "S Shyamili",
      "userId": "17147265612730583214"
     },
     "user_tz": -330
    },
    "id": "ZlVbNdOLfep5",
    "outputId": "153bfa15-979c-4784-c916-c4183fc83ac4"
   },
   "outputs": [
    {
     "data": {
      "text/plain": [
       "1"
      ]
     },
     "execution_count": 16,
     "metadata": {},
     "output_type": "execute_result"
    }
   ],
   "source": [
    "t[0]"
   ]
  },
  {
   "cell_type": "code",
   "execution_count": 17,
   "metadata": {
    "colab": {
     "base_uri": "https://localhost:8080/",
     "height": 164
    },
    "executionInfo": {
     "elapsed": 423,
     "status": "error",
     "timestamp": 1738245385690,
     "user": {
      "displayName": "S Shyamili",
      "userId": "17147265612730583214"
     },
     "user_tz": -330
    },
    "id": "-hpIxZiOf3dn",
    "outputId": "eab48482-a61b-4864-cd71-05af4b8570a5"
   },
   "outputs": [
    {
     "ename": "TypeError",
     "evalue": "'tuple' object does not support item assignment",
     "output_type": "error",
     "traceback": [
      "\u001b[0;31m---------------------------------------------------------------------------\u001b[0m",
      "\u001b[0;31mTypeError\u001b[0m                                 Traceback (most recent call last)",
      "\u001b[0;32m<ipython-input-17-e0c867063435>\u001b[0m in \u001b[0;36m<cell line: 0>\u001b[0;34m()\u001b[0m\n\u001b[0;32m----> 1\u001b[0;31m \u001b[0mt\u001b[0m\u001b[0;34m[\u001b[0m\u001b[0;36m2\u001b[0m\u001b[0;34m]\u001b[0m\u001b[0;34m=\u001b[0m\u001b[0;36m10\u001b[0m\u001b[0;34m\u001b[0m\u001b[0;34m\u001b[0m\u001b[0m\n\u001b[0m\u001b[1;32m      2\u001b[0m \u001b[0mt\u001b[0m\u001b[0;34m\u001b[0m\u001b[0;34m\u001b[0m\u001b[0m\n",
      "\u001b[0;31mTypeError\u001b[0m: 'tuple' object does not support item assignment"
     ]
    }
   ],
   "source": [
    "t[2]=10\n",
    "t"
   ]
  },
  {
   "cell_type": "code",
   "execution_count": 18,
   "metadata": {
    "colab": {
     "base_uri": "https://localhost:8080/"
    },
    "executionInfo": {
     "elapsed": 396,
     "status": "ok",
     "timestamp": 1738245511668,
     "user": {
      "displayName": "S Shyamili",
      "userId": "17147265612730583214"
     },
     "user_tz": -330
    },
    "id": "Sg0xFWp_gXVD",
    "outputId": "466d8194-3f08-4d23-b283-25456b64302c"
   },
   "outputs": [
    {
     "data": {
      "text/plain": [
       "(1, 2, 3, 4, 5, 1, 2, 3, 4, 5, 1, 2, 3, 4, 5)"
      ]
     },
     "execution_count": 18,
     "metadata": {},
     "output_type": "execute_result"
    }
   ],
   "source": [
    "t*3"
   ]
  },
  {
   "cell_type": "code",
   "execution_count": 19,
   "metadata": {
    "colab": {
     "base_uri": "https://localhost:8080/",
     "height": 146
    },
    "executionInfo": {
     "elapsed": 473,
     "status": "error",
     "timestamp": 1738245596280,
     "user": {
      "displayName": "S Shyamili",
      "userId": "17147265612730583214"
     },
     "user_tz": -330
    },
    "id": "9z5KiaHVgXRg",
    "outputId": "774b93ba-c974-42f5-c528-cbd9762c32be"
   },
   "outputs": [
    {
     "ename": "TypeError",
     "evalue": "can only concatenate tuple (not \"int\") to tuple",
     "output_type": "error",
     "traceback": [
      "\u001b[0;31m---------------------------------------------------------------------------\u001b[0m",
      "\u001b[0;31mTypeError\u001b[0m                                 Traceback (most recent call last)",
      "\u001b[0;32m<ipython-input-19-1e1822c0b638>\u001b[0m in \u001b[0;36m<cell line: 0>\u001b[0;34m()\u001b[0m\n\u001b[0;32m----> 1\u001b[0;31m \u001b[0mt\u001b[0m\u001b[0;34m+\u001b[0m\u001b[0;36m2\u001b[0m\u001b[0;34m\u001b[0m\u001b[0;34m\u001b[0m\u001b[0m\n\u001b[0m",
      "\u001b[0;31mTypeError\u001b[0m: can only concatenate tuple (not \"int\") to tuple"
     ]
    }
   ],
   "source": [
    "t+2"
   ]
  },
  {
   "cell_type": "markdown",
   "metadata": {
    "id": "sPIYLlh3g7zk"
   },
   "source": [
    "Tuple slicing"
   ]
  },
  {
   "cell_type": "code",
   "execution_count": 20,
   "metadata": {
    "colab": {
     "base_uri": "https://localhost:8080/"
    },
    "executionInfo": {
     "elapsed": 426,
     "status": "ok",
     "timestamp": 1738245688784,
     "user": {
      "displayName": "S Shyamili",
      "userId": "17147265612730583214"
     },
     "user_tz": -330
    },
    "id": "eeBaNNCRgXOO",
    "outputId": "65be1289-4fa9-457a-cac0-bd20846f413a"
   },
   "outputs": [
    {
     "data": {
      "text/plain": [
       "(11, 22, 33, 44, 55)"
      ]
     },
     "execution_count": 20,
     "metadata": {},
     "output_type": "execute_result"
    }
   ],
   "source": [
    "t=(11,22,33,44,55)\n",
    "t"
   ]
  },
  {
   "cell_type": "code",
   "execution_count": 21,
   "metadata": {
    "colab": {
     "base_uri": "https://localhost:8080/"
    },
    "executionInfo": {
     "elapsed": 397,
     "status": "ok",
     "timestamp": 1738245702393,
     "user": {
      "displayName": "S Shyamili",
      "userId": "17147265612730583214"
     },
     "user_tz": -330
    },
    "id": "tR7JldszhFwa",
    "outputId": "4dac0d0e-1fc1-4c86-8b61-fa203e65055f"
   },
   "outputs": [
    {
     "data": {
      "text/plain": [
       "(33, 44, 55)"
      ]
     },
     "execution_count": 21,
     "metadata": {},
     "output_type": "execute_result"
    }
   ],
   "source": [
    "t[2:]"
   ]
  },
  {
   "cell_type": "code",
   "execution_count": 22,
   "metadata": {
    "colab": {
     "base_uri": "https://localhost:8080/"
    },
    "executionInfo": {
     "elapsed": 466,
     "status": "ok",
     "timestamp": 1738245708783,
     "user": {
      "displayName": "S Shyamili",
      "userId": "17147265612730583214"
     },
     "user_tz": -330
    },
    "id": "xfs2wEOThFs9",
    "outputId": "bdff9f84-e255-4c86-f2cc-4c67f11894dc"
   },
   "outputs": [
    {
     "data": {
      "text/plain": [
       "(11, 22)"
      ]
     },
     "execution_count": 22,
     "metadata": {},
     "output_type": "execute_result"
    }
   ],
   "source": [
    "t[:2]"
   ]
  },
  {
   "cell_type": "code",
   "execution_count": 23,
   "metadata": {
    "colab": {
     "base_uri": "https://localhost:8080/"
    },
    "executionInfo": {
     "elapsed": 416,
     "status": "ok",
     "timestamp": 1738245718378,
     "user": {
      "displayName": "S Shyamili",
      "userId": "17147265612730583214"
     },
     "user_tz": -330
    },
    "id": "gYH9n4a5hFqB",
    "outputId": "5d170220-b7fd-49d4-df0d-25c5733489c1"
   },
   "outputs": [
    {
     "data": {
      "text/plain": [
       "(22, 33, 44, 55)"
      ]
     },
     "execution_count": 23,
     "metadata": {},
     "output_type": "execute_result"
    }
   ],
   "source": [
    "t[1:6]"
   ]
  },
  {
   "cell_type": "code",
   "execution_count": 25,
   "metadata": {
    "colab": {
     "base_uri": "https://localhost:8080/"
    },
    "executionInfo": {
     "elapsed": 375,
     "status": "ok",
     "timestamp": 1738245737467,
     "user": {
      "displayName": "S Shyamili",
      "userId": "17147265612730583214"
     },
     "user_tz": -330
    },
    "id": "NGuudlnThFng",
    "outputId": "c8dfc49a-9243-4592-9b14-9af0b6369cc2"
   },
   "outputs": [
    {
     "data": {
      "text/plain": [
       "(11, 22, 33, 44, 55)"
      ]
     },
     "execution_count": 25,
     "metadata": {},
     "output_type": "execute_result"
    }
   ],
   "source": [
    "t[0:]"
   ]
  },
  {
   "cell_type": "code",
   "execution_count": 26,
   "metadata": {
    "colab": {
     "base_uri": "https://localhost:8080/"
    },
    "executionInfo": {
     "elapsed": 397,
     "status": "ok",
     "timestamp": 1738245774640,
     "user": {
      "displayName": "S Shyamili",
      "userId": "17147265612730583214"
     },
     "user_tz": -330
    },
    "id": "sSDVtmLDhVoH",
    "outputId": "29f1b620-900e-459e-c206-38b280c01022"
   },
   "outputs": [
    {
     "data": {
      "text/plain": [
       "(11,)"
      ]
     },
     "execution_count": 26,
     "metadata": {},
     "output_type": "execute_result"
    }
   ],
   "source": [
    "t[0:2:2]"
   ]
  },
  {
   "cell_type": "code",
   "execution_count": 27,
   "metadata": {
    "colab": {
     "base_uri": "https://localhost:8080/"
    },
    "executionInfo": {
     "elapsed": 410,
     "status": "ok",
     "timestamp": 1738245817419,
     "user": {
      "displayName": "S Shyamili",
      "userId": "17147265612730583214"
     },
     "user_tz": -330
    },
    "id": "qlGkiclLhVfS",
    "outputId": "a5411b43-97a7-4e8b-e7fe-be200ac614aa"
   },
   "outputs": [
    {
     "data": {
      "text/plain": [
       "(22, 44)"
      ]
     },
     "execution_count": 27,
     "metadata": {},
     "output_type": "execute_result"
    }
   ],
   "source": [
    "t[1:5:2]"
   ]
  },
  {
   "cell_type": "markdown",
   "metadata": {
    "id": "JHmnvTsyhpB2"
   },
   "source": [
    "iterator and enumerator"
   ]
  },
  {
   "cell_type": "code",
   "execution_count": 28,
   "metadata": {
    "colab": {
     "base_uri": "https://localhost:8080/"
    },
    "executionInfo": {
     "elapsed": 7,
     "status": "ok",
     "timestamp": 1738245870869,
     "user": {
      "displayName": "S Shyamili",
      "userId": "17147265612730583214"
     },
     "user_tz": -330
    },
    "id": "bCo48hXNhtT2",
    "outputId": "6c7895b1-a45e-45b5-b983-a8c88722c38a"
   },
   "outputs": [
    {
     "name": "stdout",
     "output_type": "stream",
     "text": [
      "(11, 22, 33, 44, 55)\n",
      "(11, 22, 33, 44, 55)\n",
      "(11, 22, 33, 44, 55)\n",
      "(11, 22, 33, 44, 55)\n",
      "(11, 22, 33, 44, 55)\n"
     ]
    }
   ],
   "source": [
    "for i in t:\n",
    "  print(t)"
   ]
  },
  {
   "cell_type": "code",
   "execution_count": 29,
   "metadata": {
    "colab": {
     "base_uri": "https://localhost:8080/"
    },
    "executionInfo": {
     "elapsed": 486,
     "status": "ok",
     "timestamp": 1738245890054,
     "user": {
      "displayName": "S Shyamili",
      "userId": "17147265612730583214"
     },
     "user_tz": -330
    },
    "id": "jKctyZjUhzKk",
    "outputId": "713c8815-099c-4f28-c79c-aaebddfb7dbb"
   },
   "outputs": [
    {
     "name": "stdout",
     "output_type": "stream",
     "text": [
      "11\n",
      "22\n",
      "33\n",
      "44\n",
      "55\n"
     ]
    }
   ],
   "source": [
    "for i in t:\n",
    "  print(i)"
   ]
  },
  {
   "cell_type": "code",
   "execution_count": 30,
   "metadata": {
    "colab": {
     "base_uri": "https://localhost:8080/"
    },
    "executionInfo": {
     "elapsed": 412,
     "status": "ok",
     "timestamp": 1738245922591,
     "user": {
      "displayName": "S Shyamili",
      "userId": "17147265612730583214"
     },
     "user_tz": -330
    },
    "id": "PSZEmyOyh34e",
    "outputId": "9b184220-00ad-42fe-97e0-98e222a637e7"
   },
   "outputs": [
    {
     "name": "stdout",
     "output_type": "stream",
     "text": [
      "(0, 11)\n",
      "(1, 22)\n",
      "(2, 33)\n",
      "(3, 44)\n",
      "(4, 55)\n"
     ]
    }
   ],
   "source": [
    "for i in enumerate(t):\n",
    "  print(i)"
   ]
  },
  {
   "cell_type": "code",
   "execution_count": 31,
   "metadata": {
    "colab": {
     "base_uri": "https://localhost:8080/"
    },
    "executionInfo": {
     "elapsed": 373,
     "status": "ok",
     "timestamp": 1738245950072,
     "user": {
      "displayName": "S Shyamili",
      "userId": "17147265612730583214"
     },
     "user_tz": -330
    },
    "id": "n6MXv8AJh-k7",
    "outputId": "d02ef328-f125-409c-ff85-de21c1809d25"
   },
   "outputs": [
    {
     "name": "stdout",
     "output_type": "stream",
     "text": [
      "(11, 22, 33, 44, 55)\n",
      "(11, 22, 33, 44, 55)\n",
      "(11, 22, 33, 44, 55)\n",
      "(11, 22, 33, 44, 55)\n",
      "(11, 22, 33, 44, 55)\n"
     ]
    }
   ],
   "source": [
    "for i in enumerate(t):\n",
    "  print(t)"
   ]
  },
  {
   "cell_type": "code",
   "execution_count": 32,
   "metadata": {
    "colab": {
     "base_uri": "https://localhost:8080/"
    },
    "executionInfo": {
     "elapsed": 8,
     "status": "ok",
     "timestamp": 1738246586581,
     "user": {
      "displayName": "S Shyamili",
      "userId": "17147265612730583214"
     },
     "user_tz": -330
    },
    "id": "7Tb74FInkWbk",
    "outputId": "7bd7a704-1a7f-4b4d-e3d2-f83b798307c8"
   },
   "outputs": [
    {
     "data": {
      "text/plain": [
       "(1, 123, [1, 2, 3], 'hi')"
      ]
     },
     "execution_count": 32,
     "metadata": {},
     "output_type": "execute_result"
    }
   ],
   "source": [
    "t1=(1,(123),[1,2,3],\"hi\")\n",
    "t1"
   ]
  },
  {
   "cell_type": "code",
   "execution_count": 33,
   "metadata": {
    "colab": {
     "base_uri": "https://localhost:8080/",
     "height": 146
    },
    "executionInfo": {
     "elapsed": 404,
     "status": "error",
     "timestamp": 1738246632228,
     "user": {
      "displayName": "S Shyamili",
      "userId": "17147265612730583214"
     },
     "user_tz": -330
    },
    "id": "o9YO5BIHkWYN",
    "outputId": "099457b6-b51e-4693-b72b-dbd0baf3e441"
   },
   "outputs": [
    {
     "ename": "IndexError",
     "evalue": "string index out of range",
     "output_type": "error",
     "traceback": [
      "\u001b[0;31m---------------------------------------------------------------------------\u001b[0m",
      "\u001b[0;31mIndexError\u001b[0m                                Traceback (most recent call last)",
      "\u001b[0;32m<ipython-input-33-e27da5ac88b6>\u001b[0m in \u001b[0;36m<cell line: 0>\u001b[0;34m()\u001b[0m\n\u001b[0;32m----> 1\u001b[0;31m \u001b[0mt1\u001b[0m\u001b[0;34m[\u001b[0m\u001b[0;36m3\u001b[0m\u001b[0;34m]\u001b[0m\u001b[0;34m[\u001b[0m\u001b[0;36m2\u001b[0m\u001b[0;34m]\u001b[0m\u001b[0;34m\u001b[0m\u001b[0;34m\u001b[0m\u001b[0m\n\u001b[0m",
      "\u001b[0;31mIndexError\u001b[0m: string index out of range"
     ]
    }
   ],
   "source": [
    "t1[3][2]"
   ]
  },
  {
   "cell_type": "code",
   "execution_count": 34,
   "metadata": {
    "colab": {
     "base_uri": "https://localhost:8080/"
    },
    "executionInfo": {
     "elapsed": 417,
     "status": "ok",
     "timestamp": 1738246657603,
     "user": {
      "displayName": "S Shyamili",
      "userId": "17147265612730583214"
     },
     "user_tz": -330
    },
    "id": "ASdZ-2UqkWU-",
    "outputId": "665aaf3a-0af3-4fa9-a537-80db2ce6a8e7"
   },
   "outputs": [
    {
     "data": {
      "text/plain": [
       "3"
      ]
     },
     "execution_count": 34,
     "metadata": {},
     "output_type": "execute_result"
    }
   ],
   "source": [
    "t1[2][2]"
   ]
  },
  {
   "cell_type": "code",
   "execution_count": 35,
   "metadata": {
    "colab": {
     "base_uri": "https://localhost:8080/",
     "height": 182
    },
    "executionInfo": {
     "elapsed": 393,
     "status": "error",
     "timestamp": 1738246717077,
     "user": {
      "displayName": "S Shyamili",
      "userId": "17147265612730583214"
     },
     "user_tz": -330
    },
    "id": "dotmjcPpkWSF",
    "outputId": "f268fd1a-6a5c-4e39-cd2e-c21170fb261d"
   },
   "outputs": [
    {
     "ename": "TypeError",
     "evalue": "'int' object is not subscriptable",
     "output_type": "error",
     "traceback": [
      "\u001b[0;31m---------------------------------------------------------------------------\u001b[0m",
      "\u001b[0;31mTypeError\u001b[0m                                 Traceback (most recent call last)",
      "\u001b[0;32m<ipython-input-35-b1a9a91fb076>\u001b[0m in \u001b[0;36m<cell line: 0>\u001b[0;34m()\u001b[0m\n\u001b[0;32m----> 1\u001b[0;31m \u001b[0mprint\u001b[0m\u001b[0;34m(\u001b[0m\u001b[0mt\u001b[0m\u001b[0;34m[\u001b[0m\u001b[0;36m2\u001b[0m\u001b[0;34m]\u001b[0m\u001b[0;34m[\u001b[0m\u001b[0;36m3\u001b[0m\u001b[0;34m]\u001b[0m\u001b[0;34m)\u001b[0m\u001b[0;34m\u001b[0m\u001b[0;34m\u001b[0m\u001b[0m\n\u001b[0m\u001b[1;32m      2\u001b[0m \u001b[0mprint\u001b[0m\u001b[0;34m(\u001b[0m\u001b[0mt\u001b[0m\u001b[0;34m[\u001b[0m\u001b[0;36m2\u001b[0m\u001b[0;34m]\u001b[0m\u001b[0;34m[\u001b[0m\u001b[0;36m1\u001b[0m\u001b[0;34m]\u001b[0m\u001b[0;34m)\u001b[0m\u001b[0;34m\u001b[0m\u001b[0;34m\u001b[0m\u001b[0m\n\u001b[1;32m      3\u001b[0m \u001b[0mprint\u001b[0m\u001b[0;34m(\u001b[0m\u001b[0mt\u001b[0m\u001b[0;34m[\u001b[0m\u001b[0;36m2\u001b[0m\u001b[0;34m]\u001b[0m\u001b[0;34m[\u001b[0m\u001b[0;36m1\u001b[0m\u001b[0;34m]\u001b[0m\u001b[0;34m)\u001b[0m\u001b[0;34m\u001b[0m\u001b[0;34m\u001b[0m\u001b[0m\n",
      "\u001b[0;31mTypeError\u001b[0m: 'int' object is not subscriptable"
     ]
    }
   ],
   "source": [
    "print(t[2][3])\n",
    "print(t[2][1])\n",
    "print(t[2][1]) #exceptions"
   ]
  },
  {
   "cell_type": "markdown",
   "metadata": {
    "id": "m_fl6yTSlIFC"
   },
   "source": [
    "Bitwise opeartors"
   ]
  },
  {
   "cell_type": "code",
   "execution_count": 36,
   "metadata": {
    "colab": {
     "base_uri": "https://localhost:8080/"
    },
    "executionInfo": {
     "elapsed": 1735,
     "status": "ok",
     "timestamp": 1738247092397,
     "user": {
      "displayName": "S Shyamili",
      "userId": "17147265612730583214"
     },
     "user_tz": -330
    },
    "id": "ZbloKbLZlA52",
    "outputId": "3c87fb60-e4be-44e4-8934-025f5f15b5d5"
   },
   "outputs": [
    {
     "data": {
      "text/plain": [
       "15"
      ]
     },
     "execution_count": 36,
     "metadata": {},
     "output_type": "execute_result"
    }
   ],
   "source": [
    "12|3 #or"
   ]
  },
  {
   "cell_type": "code",
   "execution_count": 37,
   "metadata": {
    "colab": {
     "base_uri": "https://localhost:8080/"
    },
    "executionInfo": {
     "elapsed": 1888,
     "status": "ok",
     "timestamp": 1738247116991,
     "user": {
      "displayName": "S Shyamili",
      "userId": "17147265612730583214"
     },
     "user_tz": -330
    },
    "id": "DBPN7GokmYyt",
    "outputId": "1a8f1089-3db7-4a7c-cab9-804166caa577"
   },
   "outputs": [
    {
     "data": {
      "text/plain": [
       "13"
      ]
     },
     "execution_count": 37,
     "metadata": {},
     "output_type": "execute_result"
    }
   ],
   "source": [
    "12|13"
   ]
  },
  {
   "cell_type": "code",
   "execution_count": 38,
   "metadata": {
    "colab": {
     "base_uri": "https://localhost:8080/"
    },
    "executionInfo": {
     "elapsed": 684,
     "status": "ok",
     "timestamp": 1738247125551,
     "user": {
      "displayName": "S Shyamili",
      "userId": "17147265612730583214"
     },
     "user_tz": -330
    },
    "id": "4ZUBV4g_mYi3",
    "outputId": "778314ac-29a2-4181-e847-0c83ad24dd83"
   },
   "outputs": [
    {
     "data": {
      "text/plain": [
       "4"
      ]
     },
     "execution_count": 38,
     "metadata": {},
     "output_type": "execute_result"
    }
   ],
   "source": [
    "12&6  #and"
   ]
  },
  {
   "cell_type": "code",
   "execution_count": 39,
   "metadata": {
    "colab": {
     "base_uri": "https://localhost:8080/"
    },
    "executionInfo": {
     "elapsed": 421,
     "status": "ok",
     "timestamp": 1738247133680,
     "user": {
      "displayName": "S Shyamili",
      "userId": "17147265612730583214"
     },
     "user_tz": -330
    },
    "id": "wFNzePAzmj_R",
    "outputId": "1426a64b-76ad-4921-8a80-7287211588ca"
   },
   "outputs": [
    {
     "data": {
      "text/plain": [
       "4"
      ]
     },
     "execution_count": 39,
     "metadata": {},
     "output_type": "execute_result"
    }
   ],
   "source": [
    "12&5"
   ]
  },
  {
   "cell_type": "code",
   "execution_count": 40,
   "metadata": {
    "colab": {
     "base_uri": "https://localhost:8080/"
    },
    "executionInfo": {
     "elapsed": 397,
     "status": "ok",
     "timestamp": 1738247204584,
     "user": {
      "displayName": "S Shyamili",
      "userId": "17147265612730583214"
     },
     "user_tz": -330
    },
    "id": "yECME7hEmmnr",
    "outputId": "a415c94d-ef33-40fd-d3ca-368cc104e2d9"
   },
   "outputs": [
    {
     "data": {
      "text/plain": [
       "1011647"
      ]
     },
     "execution_count": 40,
     "metadata": {},
     "output_type": "execute_result"
    }
   ],
   "source": [
    "1011001|1001110"
   ]
  },
  {
   "cell_type": "code",
   "execution_count": 41,
   "metadata": {
    "colab": {
     "base_uri": "https://localhost:8080/"
    },
    "executionInfo": {
     "elapsed": 402,
     "status": "ok",
     "timestamp": 1738247222658,
     "user": {
      "displayName": "S Shyamili",
      "userId": "17147265612730583214"
     },
     "user_tz": -330
    },
    "id": "UmJugx0Tmmgt",
    "outputId": "777b6fb0-a22e-4cfc-ac3f-a7396a536515"
   },
   "outputs": [
    {
     "data": {
      "text/plain": [
       "27057"
      ]
     },
     "execution_count": 41,
     "metadata": {},
     "output_type": "execute_result"
    }
   ],
   "source": [
    "1110001&1010111"
   ]
  },
  {
   "cell_type": "code",
   "execution_count": 42,
   "metadata": {
    "colab": {
     "base_uri": "https://localhost:8080/"
    },
    "executionInfo": {
     "elapsed": 419,
     "status": "ok",
     "timestamp": 1738247318638,
     "user": {
      "displayName": "S Shyamili",
      "userId": "17147265612730583214"
     },
     "user_tz": -330
    },
    "id": "M9SGgLQenQsB",
    "outputId": "dceeb0d8-01ae-4511-85b8-2479d1352161"
   },
   "outputs": [
    {
     "data": {
      "text/plain": [
       "1"
      ]
     },
     "execution_count": 42,
     "metadata": {},
     "output_type": "execute_result"
    }
   ],
   "source": [
    "12^13 #Ex-or"
   ]
  },
  {
   "cell_type": "code",
   "execution_count": 43,
   "metadata": {
    "colab": {
     "base_uri": "https://localhost:8080/"
    },
    "executionInfo": {
     "elapsed": 464,
     "status": "ok",
     "timestamp": 1738247333115,
     "user": {
      "displayName": "S Shyamili",
      "userId": "17147265612730583214"
     },
     "user_tz": -330
    },
    "id": "Vt3dGkv4nUxz",
    "outputId": "08076a33-f293-43a2-8b5f-0d89b838a482"
   },
   "outputs": [
    {
     "data": {
      "text/plain": [
       "32"
      ]
     },
     "execution_count": 43,
     "metadata": {},
     "output_type": "execute_result"
    }
   ],
   "source": [
    "13^45"
   ]
  },
  {
   "cell_type": "code",
   "execution_count": 44,
   "metadata": {
    "colab": {
     "base_uri": "https://localhost:8080/"
    },
    "executionInfo": {
     "elapsed": 406,
     "status": "ok",
     "timestamp": 1738247622622,
     "user": {
      "displayName": "S Shyamili",
      "userId": "17147265612730583214"
     },
     "user_tz": -330
    },
    "id": "QhJ3TwuEnUuU",
    "outputId": "1d0dd7f2-c459-42f6-a988-168a1cb0e769"
   },
   "outputs": [
    {
     "data": {
      "text/plain": [
       "-10112"
      ]
     },
     "execution_count": 44,
     "metadata": {},
     "output_type": "execute_result"
    }
   ],
   "source": [
    "x=10111\n",
    "~x"
   ]
  },
  {
   "cell_type": "code",
   "execution_count": 45,
   "metadata": {
    "colab": {
     "base_uri": "https://localhost:8080/"
    },
    "executionInfo": {
     "elapsed": 1274,
     "status": "ok",
     "timestamp": 1738247635205,
     "user": {
      "displayName": "S Shyamili",
      "userId": "17147265612730583214"
     },
     "user_tz": -330
    },
    "id": "SfBVwZFonUrZ",
    "outputId": "e0f56789-67a9-4b0d-f605-c648cd53f6c7"
   },
   "outputs": [
    {
     "data": {
      "text/plain": [
       "0"
      ]
     },
     "execution_count": 45,
     "metadata": {},
     "output_type": "execute_result"
    }
   ],
   "source": [
    "20>>40 #right shift lose the bits"
   ]
  },
  {
   "cell_type": "code",
   "execution_count": 46,
   "metadata": {
    "colab": {
     "base_uri": "https://localhost:8080/"
    },
    "executionInfo": {
     "elapsed": 433,
     "status": "ok",
     "timestamp": 1738247650572,
     "user": {
      "displayName": "S Shyamili",
      "userId": "17147265612730583214"
     },
     "user_tz": -330
    },
    "id": "v_RhXIG6oiTr",
    "outputId": "02233555-2c21-473a-be19-9d8a0fd5dd24"
   },
   "outputs": [
    {
     "data": {
      "text/plain": [
       "21990232555520"
      ]
     },
     "execution_count": 46,
     "metadata": {},
     "output_type": "execute_result"
    }
   ],
   "source": [
    "20<<40  #left shift gain the bits"
   ]
  }
 ],
 "metadata": {
  "colab": {
   "authorship_tag": "ABX9TyOSJ+FNuyCfFccZVJb4RryE",
   "provenance": []
  },
  "kernelspec": {
   "display_name": "Python 3",
   "name": "python3"
  },
  "language_info": {
   "name": "python"
  }
 },
 "nbformat": 4,
 "nbformat_minor": 0
}
